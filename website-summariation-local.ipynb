{
 "cells": [
  {
   "cell_type": "markdown",
   "id": "a279ed04-9c9a-462c-8177-ff140ff1076d",
   "metadata": {},
   "source": [
    "## This notbeook is for using the local ollama to generate the summarization of a webapge"
   ]
  },
  {
   "cell_type": "code",
   "execution_count": null,
   "id": "36fa00f7-67c9-4998-949c-23064e872ee9",
   "metadata": {},
   "outputs": [],
   "source": [
    "import requests\n",
    "from bs4 import BeautifulSoup\n",
    "from IPython.display import Markdown, display\n",
    "from selenium import webdriver\n",
    "from selenium.webdriver.chrome.options import Options\n",
    "from selenium.webdriver.common.by import By\n",
    "from selenium.webdriver.support.ui import WebDriverWait\n",
    "from selenium.webdriver.support import expected_conditions as EC"
   ]
  },
  {
   "cell_type": "code",
   "execution_count": null,
   "id": "0e8a6e2a-c2aa-4c4a-9c09-98bcac25160e",
   "metadata": {},
   "outputs": [],
   "source": [
    "# this class extracts/parses the webpage\n",
    "\n",
    "class Website:\n",
    "\n",
    "    def __init__(self, url):\n",
    "        self.url = url\n",
    "\n",
    "        #Creating a headless browser\n",
    "        chrome_options = Options()\n",
    "        chrome_options.add_argument(\"--headless\")\n",
    "        chrome_options.add_argument(\"--enable-javascript\")\n",
    "        chrome_options.add_argument(\"--enable-cookies\")\n",
    "        chrome_options.add_argument(\"--no-sandbox\")\n",
    "        chrome_options.add_argument(\"--disable-dev-shm-usage\")\n",
    "        driver = webdriver.Chrome(options=chrome_options)\n",
    "        driver.get(url)\n",
    "\n",
    "        if \"Just a moment...\" in driver.title:\n",
    "            print(\"Cloudflare detected. Waiting...\")\n",
    "            time.sleep(5)\n",
    "\n",
    "        element = WebDriverWait(driver,10)\n",
    "        driver.execute_script(\"window.scrollTo(0,document.body.scrollHeight);\")\n",
    "        \n",
    "        page_source = driver.page_source\n",
    "        driver.quit()\n",
    "        \n",
    "        soup = BeautifulSoup(page_source, 'html.parser')\n",
    "\n",
    "        self.title = soup.title.string if soup.title else \"No title found\"\n",
    "        for irrelevant in soup.body([\"script\", \"style\", \"img\", \"input\"]):\n",
    "            irrelevant.decompose()\n",
    "        self.text = soup.body.get_text(separator=\"\\n\", strip=True)"
   ]
  },
  {
   "cell_type": "code",
   "execution_count": null,
   "id": "8375cf3a-0ae5-47d7-870d-a49b42a99e14",
   "metadata": {
    "scrolled": true
   },
   "outputs": [],
   "source": [
    "# lets call the website class to get the extracted content\n",
    "\n",
    "extracted_text = Website(\"https://en.wikipedia.org/wiki/Pushpa_2:_The_Rule\")\n",
    "print(extracted_text.title)\n",
    "print(extracted_text.text)"
   ]
  },
  {
   "cell_type": "code",
   "execution_count": null,
   "id": "ed221329-5977-453b-8dfd-c3d165a8d0d9",
   "metadata": {},
   "outputs": [],
   "source": [
    "# Now that we have the extracted content of the webage. Lets create necessary variables to call the ollama\n",
    "\n",
    "OLLAMA_API = \"http://localhost:11434/api/chat\"\n",
    "HEADERS = {\"Content-Type\": \"application/json\"}\n",
    "MODEL = \"llama3.2\""
   ]
  },
  {
   "cell_type": "code",
   "execution_count": null,
   "id": "a38f58af-ae79-4f16-aacc-42e21b8b3a2b",
   "metadata": {},
   "outputs": [],
   "source": [
    "# lets generate the prompts to give the context to the LLM\n",
    "\n",
    "system_prompt = \"You are an assistant that analyzes the contents of a website \\\n",
    "and provides a short summary, ignoring text that might be navigation related. \\\n",
    "Respond in markdown. Only use the important details from the context\"\n",
    "\n",
    "user_prompt = f\"You are looking at a website titled {extracted_text.title}\"\n",
    "user_prompt += \"\\nThe contents of this website is as follows; \\\n",
    "please provide a short summary of this website in markdown. \\\n",
    "If it includes news or announcements, then summarize these too.\\n\\n\"\n",
    "user_prompt += extracted_text.text\n",
    "messages = [\n",
    "    {\"role\":\"system\", \"content\": system_prompt},\n",
    "    {\"role\":\"user\", \"content\":user_prompt}\n",
    "]"
   ]
  },
  {
   "cell_type": "code",
   "execution_count": null,
   "id": "2bc74e24-8a2c-4314-aae7-5df58f907e21",
   "metadata": {},
   "outputs": [],
   "source": [
    "payload = {\n",
    "        \"model\": MODEL,\n",
    "        \"messages\": messages,\n",
    "        \"stream\": False\n",
    "    }"
   ]
  },
  {
   "cell_type": "code",
   "execution_count": null,
   "id": "4c20d780-d10d-477c-8b6c-317f64b52c26",
   "metadata": {},
   "outputs": [],
   "source": [
    "response = requests.post(OLLAMA_API, json=payload, headers=HEADERS)\n",
    "print(response.json()['message']['content'])"
   ]
  },
  {
   "cell_type": "markdown",
   "id": "7e421344-9edb-4699-80cc-64b59b00f41f",
   "metadata": {},
   "source": [
    "## this is the end of the webapge summarization."
   ]
  },
  {
   "cell_type": "code",
   "execution_count": null,
   "id": "e5295f11-7ec6-47aa-b38c-7fd3d4a6df87",
   "metadata": {},
   "outputs": [],
   "source": []
  }
 ],
 "metadata": {
  "kernelspec": {
   "display_name": "Python 3 (ipykernel)",
   "language": "python",
   "name": "python3"
  },
  "language_info": {
   "codemirror_mode": {
    "name": "ipython",
    "version": 3
   },
   "file_extension": ".py",
   "mimetype": "text/x-python",
   "name": "python",
   "nbconvert_exporter": "python",
   "pygments_lexer": "ipython3",
   "version": "3.11.11"
  }
 },
 "nbformat": 4,
 "nbformat_minor": 5
}
